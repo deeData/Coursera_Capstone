{
 "cells": [
  {
   "cell_type": "markdown",
   "metadata": {},
   "source": [
    "<h2> Introduction/Business Problem: </h2>\n",
    "<br>\n",
    "    This is a report on predicting the probability of a traffic accident based on various factors particularly in the City of Seattle, Washington. The predictive analysis can be used by the government and its citizens for mitigating or avoiding such accidents, and to improve circumstances where possible. Lowering the impact or avoiding traffic accidents will decrease the amount of property damage and human injury, and can also reduce traffic jams within the community."
   ]
  },
  {
   "cell_type": "markdown",
   "metadata": {},
   "source": [
    "<h2>Data: </h2>\n",
    "<br>\n",
    "    The collision data used in the analysis is from the SDOT Traffic Management Division, Traffic Records Group. The data is from period January 1, 2004 through May 20, 2020, of which includes observations of 194,673 total collisions reported. Severity of a collision is stated as either \"Property Damage Only Collision\" or \"Injury Collision\". Details about each collision includes location information, collision description, number of persons and vehicles or bycycles involved, environmental conditions such as weather and road conditions, and any human negligence such as speeding or driving under the influence. The aforementioned data is used for exploratory analysis and to determine correlations with the severity of traffic accidents.  "
   ]
  },
  {
   "cell_type": "code",
   "execution_count": null,
   "metadata": {},
   "outputs": [],
   "source": []
  }
 ],
 "metadata": {
  "kernelspec": {
   "display_name": "Python 3",
   "language": "python",
   "name": "python3"
  },
  "language_info": {
   "codemirror_mode": {
    "name": "ipython",
    "version": 3
   },
   "file_extension": ".py",
   "mimetype": "text/x-python",
   "name": "python",
   "nbconvert_exporter": "python",
   "pygments_lexer": "ipython3",
   "version": "3.8.3"
  }
 },
 "nbformat": 4,
 "nbformat_minor": 4
}
